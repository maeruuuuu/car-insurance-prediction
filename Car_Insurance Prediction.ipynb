{
 "cells": [
  {
   "cell_type": "code",
   "execution_count": 2,
   "metadata": {},
   "outputs": [],
   "source": [
    "import numpy as np\n",
    "import pandas as pd\n",
    "import matplotlib.pyplot as plt\n",
    "import seaborn as sns"
   ]
  },
  {
   "cell_type": "code",
   "execution_count": 71,
   "metadata": {},
   "outputs": [],
   "source": [
    "train_data = pd.read_csv('Train_data.csv')\n",
    "test_data = pd.read_csv('Test_data.csv')"
   ]
  },
  {
   "cell_type": "code",
   "execution_count": null,
   "metadata": {},
   "outputs": [],
   "source": [
    "#Explore Data Analysis"
   ]
  },
  {
   "cell_type": "code",
   "execution_count": 72,
   "metadata": {},
   "outputs": [
    {
     "data": {
      "text/plain": [
       "(3102, 18)"
      ]
     },
     "execution_count": 72,
     "metadata": {},
     "output_type": "execute_result"
    }
   ],
   "source": [
    "train_data.shape"
   ]
  },
  {
   "cell_type": "code",
   "execution_count": 73,
   "metadata": {},
   "outputs": [
    {
     "data": {
      "text/html": [
       "<div>\n",
       "<style scoped>\n",
       "    .dataframe tbody tr th:only-of-type {\n",
       "        vertical-align: middle;\n",
       "    }\n",
       "\n",
       "    .dataframe tbody tr th {\n",
       "        vertical-align: top;\n",
       "    }\n",
       "\n",
       "    .dataframe thead th {\n",
       "        text-align: right;\n",
       "    }\n",
       "</style>\n",
       "<table border=\"1\" class=\"dataframe\">\n",
       "  <thead>\n",
       "    <tr style=\"text-align: right;\">\n",
       "      <th></th>\n",
       "      <th>age</th>\n",
       "      <th>job_type</th>\n",
       "      <th>marital_status</th>\n",
       "      <th>education_level</th>\n",
       "      <th>default_or_not</th>\n",
       "      <th>balance_amt</th>\n",
       "      <th>household_insurance</th>\n",
       "      <th>car_loan</th>\n",
       "      <th>communication</th>\n",
       "      <th>last_contact_day</th>\n",
       "      <th>last_contact_month</th>\n",
       "      <th>no_of_contacts</th>\n",
       "      <th>days_passed</th>\n",
       "      <th>prev_attempts</th>\n",
       "      <th>Outcome</th>\n",
       "      <th>call_start</th>\n",
       "      <th>call_end</th>\n",
       "      <th>car_insurance</th>\n",
       "    </tr>\n",
       "  </thead>\n",
       "  <tbody>\n",
       "    <tr>\n",
       "      <th>0</th>\n",
       "      <td>47.000000</td>\n",
       "      <td>blue-collar</td>\n",
       "      <td>married</td>\n",
       "      <td>primary</td>\n",
       "      <td>0</td>\n",
       "      <td>1112.000000</td>\n",
       "      <td>1</td>\n",
       "      <td>0</td>\n",
       "      <td>cellular</td>\n",
       "      <td>13</td>\n",
       "      <td>may</td>\n",
       "      <td>1</td>\n",
       "      <td>-1</td>\n",
       "      <td>0</td>\n",
       "      <td>NaN</td>\n",
       "      <td>10:22:20</td>\n",
       "      <td>10:24:29</td>\n",
       "      <td>0</td>\n",
       "    </tr>\n",
       "    <tr>\n",
       "      <th>1</th>\n",
       "      <td>46.031442</td>\n",
       "      <td>management</td>\n",
       "      <td>married</td>\n",
       "      <td>tertiary</td>\n",
       "      <td>0</td>\n",
       "      <td>1.312372</td>\n",
       "      <td>0</td>\n",
       "      <td>1</td>\n",
       "      <td>cellular</td>\n",
       "      <td>15</td>\n",
       "      <td>may</td>\n",
       "      <td>3</td>\n",
       "      <td>219</td>\n",
       "      <td>1</td>\n",
       "      <td>other</td>\n",
       "      <td>09:06:30</td>\n",
       "      <td>13:59:48</td>\n",
       "      <td>1</td>\n",
       "    </tr>\n",
       "    <tr>\n",
       "      <th>2</th>\n",
       "      <td>36.000000</td>\n",
       "      <td>services</td>\n",
       "      <td>single</td>\n",
       "      <td>NaN</td>\n",
       "      <td>0</td>\n",
       "      <td>281.000000</td>\n",
       "      <td>1</td>\n",
       "      <td>0</td>\n",
       "      <td>NaN</td>\n",
       "      <td>16</td>\n",
       "      <td>may</td>\n",
       "      <td>1</td>\n",
       "      <td>-1</td>\n",
       "      <td>0</td>\n",
       "      <td>NaN</td>\n",
       "      <td>13:18:41</td>\n",
       "      <td>13:27:16</td>\n",
       "      <td>1</td>\n",
       "    </tr>\n",
       "    <tr>\n",
       "      <th>3</th>\n",
       "      <td>32.000000</td>\n",
       "      <td>technician</td>\n",
       "      <td>single</td>\n",
       "      <td>secondary</td>\n",
       "      <td>0</td>\n",
       "      <td>540.000000</td>\n",
       "      <td>0</td>\n",
       "      <td>1</td>\n",
       "      <td>cellular</td>\n",
       "      <td>29</td>\n",
       "      <td>jan</td>\n",
       "      <td>1</td>\n",
       "      <td>-1</td>\n",
       "      <td>0</td>\n",
       "      <td>NaN</td>\n",
       "      <td>10:09:18</td>\n",
       "      <td>10:21:48</td>\n",
       "      <td>1</td>\n",
       "    </tr>\n",
       "    <tr>\n",
       "      <th>4</th>\n",
       "      <td>30.000000</td>\n",
       "      <td>admin.</td>\n",
       "      <td>single</td>\n",
       "      <td>secondary</td>\n",
       "      <td>0</td>\n",
       "      <td>315.000000</td>\n",
       "      <td>1</td>\n",
       "      <td>0</td>\n",
       "      <td>cellular</td>\n",
       "      <td>14</td>\n",
       "      <td>may</td>\n",
       "      <td>3</td>\n",
       "      <td>346</td>\n",
       "      <td>4</td>\n",
       "      <td>failure</td>\n",
       "      <td>12:12:30</td>\n",
       "      <td>12:27:14</td>\n",
       "      <td>1</td>\n",
       "    </tr>\n",
       "  </tbody>\n",
       "</table>\n",
       "</div>"
      ],
      "text/plain": [
       "         age     job_type marital_status education_level  default_or_not  \\\n",
       "0  47.000000  blue-collar        married         primary               0   \n",
       "1  46.031442   management        married        tertiary               0   \n",
       "2  36.000000     services         single             NaN               0   \n",
       "3  32.000000   technician         single       secondary               0   \n",
       "4  30.000000       admin.         single       secondary               0   \n",
       "\n",
       "   balance_amt  household_insurance  car_loan communication  last_contact_day  \\\n",
       "0  1112.000000                    1         0      cellular                13   \n",
       "1     1.312372                    0         1      cellular                15   \n",
       "2   281.000000                    1         0           NaN                16   \n",
       "3   540.000000                    0         1      cellular                29   \n",
       "4   315.000000                    1         0      cellular                14   \n",
       "\n",
       "  last_contact_month  no_of_contacts  days_passed  prev_attempts  Outcome  \\\n",
       "0                may               1           -1              0      NaN   \n",
       "1                may               3          219              1    other   \n",
       "2                may               1           -1              0      NaN   \n",
       "3                jan               1           -1              0      NaN   \n",
       "4                may               3          346              4  failure   \n",
       "\n",
       "  call_start  call_end  car_insurance  \n",
       "0   10:22:20  10:24:29              0  \n",
       "1   09:06:30  13:59:48              1  \n",
       "2   13:18:41  13:27:16              1  \n",
       "3   10:09:18  10:21:48              1  \n",
       "4   12:12:30  12:27:14              1  "
      ]
     },
     "execution_count": 73,
     "metadata": {},
     "output_type": "execute_result"
    }
   ],
   "source": [
    "train_data.head()"
   ]
  },
  {
   "cell_type": "code",
   "execution_count": 74,
   "metadata": {},
   "outputs": [
    {
     "data": {
      "text/plain": [
       "age                       0\n",
       "job_type                 11\n",
       "marital_status            0\n",
       "education_level         113\n",
       "default_or_not            0\n",
       "balance_amt               0\n",
       "household_insurance       0\n",
       "car_loan                  0\n",
       "communication           543\n",
       "last_contact_day          0\n",
       "last_contact_month        0\n",
       "no_of_contacts            0\n",
       "days_passed               0\n",
       "prev_attempts             0\n",
       "Outcome                2351\n",
       "call_start                0\n",
       "call_end                  0\n",
       "car_insurance             0\n",
       "dtype: int64"
      ]
     },
     "execution_count": 74,
     "metadata": {},
     "output_type": "execute_result"
    }
   ],
   "source": [
    "train_data.isna().sum()"
   ]
  },
  {
   "cell_type": "code",
   "execution_count": 15,
   "metadata": {
    "scrolled": true
   },
   "outputs": [
    {
     "data": {
      "text/plain": [
       "array(['blue-collar', 'management', 'services', 'technician', 'admin.',\n",
       "       'student', 'retired', 'housemaid', 'unemployed', 'entrepreneur',\n",
       "       'self-employed', nan], dtype=object)"
      ]
     },
     "execution_count": 15,
     "metadata": {},
     "output_type": "execute_result"
    }
   ],
   "source": [
    "train_data['job_type'].unique()"
   ]
  },
  {
   "cell_type": "code",
   "execution_count": 16,
   "metadata": {},
   "outputs": [
    {
     "data": {
      "text/plain": [
       "array(['primary', 'tertiary', nan, 'secondary'], dtype=object)"
      ]
     },
     "execution_count": 16,
     "metadata": {},
     "output_type": "execute_result"
    }
   ],
   "source": [
    "train_data['education_level'].unique()"
   ]
  },
  {
   "cell_type": "code",
   "execution_count": 17,
   "metadata": {
    "scrolled": true
   },
   "outputs": [
    {
     "data": {
      "text/plain": [
       "array(['cellular', nan, 'telephone'], dtype=object)"
      ]
     },
     "execution_count": 17,
     "metadata": {},
     "output_type": "execute_result"
    }
   ],
   "source": [
    "train_data['communication'].unique()"
   ]
  },
  {
   "cell_type": "code",
   "execution_count": 20,
   "metadata": {},
   "outputs": [
    {
     "data": {
      "text/plain": [
       "array([nan, 'other', 'failure', 'success'], dtype=object)"
      ]
     },
     "execution_count": 20,
     "metadata": {},
     "output_type": "execute_result"
    }
   ],
   "source": [
    "train_data['Outcome'].unique()"
   ]
  },
  {
   "cell_type": "code",
   "execution_count": 26,
   "metadata": {},
   "outputs": [
    {
     "data": {
      "text/plain": [
       "array([13, 15, 16, 29, 14,  7,  9, 26, 21, 19, 20, 24, 25,  2, 30,  6, 10,\n",
       "       17, 28,  3, 27, 23, 11, 18,  8, 22,  1,  5, 12,  4, 31],\n",
       "      dtype=int64)"
      ]
     },
     "execution_count": 26,
     "metadata": {},
     "output_type": "execute_result"
    }
   ],
   "source": [
    "train_data['last_contact_day'].unique()"
   ]
  },
  {
   "cell_type": "code",
   "execution_count": 51,
   "metadata": {},
   "outputs": [
    {
     "data": {
      "text/plain": [
       "-1      2219\n",
       " 92       30\n",
       " 182      22\n",
       " 91       19\n",
       " 183      18\n",
       "        ... \n",
       " 7         1\n",
       " 854       1\n",
       " 842       1\n",
       " 690       1\n",
       " 0         1\n",
       "Name: days_passed, Length: 321, dtype: int64"
      ]
     },
     "execution_count": 51,
     "metadata": {},
     "output_type": "execute_result"
    }
   ],
   "source": [
    "train_data['days_passed'].value_counts()"
   ]
  },
  {
   "cell_type": "code",
   "execution_count": 63,
   "metadata": {},
   "outputs": [
    {
     "data": {
      "text/plain": [
       "True     2351\n",
       "False     751\n",
       "Name: Outcome, dtype: int64"
      ]
     },
     "execution_count": 63,
     "metadata": {},
     "output_type": "execute_result"
    }
   ],
   "source": [
    "train_data['Outcome'].isna().value_counts()"
   ]
  },
  {
   "cell_type": "code",
   "execution_count": 62,
   "metadata": {},
   "outputs": [
    {
     "data": {
      "text/plain": [
       "failure    309\n",
       "success    299\n",
       "other      143\n",
       "Name: Outcome, dtype: int64"
      ]
     },
     "execution_count": 62,
     "metadata": {},
     "output_type": "execute_result"
    }
   ],
   "source": [
    "train_data['Outcome'].value_counts()"
   ]
  },
  {
   "cell_type": "code",
   "execution_count": 65,
   "metadata": {},
   "outputs": [
    {
     "data": {
      "text/plain": [
       "cellular     2397\n",
       "telephone     162\n",
       "Name: communication, dtype: int64"
      ]
     },
     "execution_count": 65,
     "metadata": {},
     "output_type": "execute_result"
    }
   ],
   "source": [
    "train_data['communication'].value_counts()"
   ]
  },
  {
   "cell_type": "code",
   "execution_count": 50,
   "metadata": {},
   "outputs": [
    {
     "data": {
      "text/plain": [
       "<AxesSubplot:>"
      ]
     },
     "execution_count": 50,
     "metadata": {},
     "output_type": "execute_result"
    },
    {
     "data": {
      "image/png": "[encoded data removed]",
      "text/plain": [
       "<Figure size 1152x864 with 2 Axes>"
      ]
     },
     "metadata": {
      "needs_background": "light"
     },
     "output_type": "display_data"
    }
   ],
   "source": [
    "plt.figure(figsize=(16, 12))\n",
    "sns.heatmap(train_data.corr(), cmap='bwr', annot=True)"
   ]
  },
  {
   "cell_type": "code",
   "execution_count": 53,
   "metadata": {},
   "outputs": [
    {
     "data": {
      "text/plain": [
       "success    112\n",
       "failure     96\n",
       "other       32\n",
       "Name: Outcome, dtype: int64"
      ]
     },
     "execution_count": 53,
     "metadata": {},
     "output_type": "execute_result"
    }
   ],
   "source": [
    "test_data['Outcome'].value_counts()"
   ]
  },
  {
   "cell_type": "code",
   "execution_count": 68,
   "metadata": {},
   "outputs": [
    {
     "data": {
      "text/plain": [
       "695"
      ]
     },
     "execution_count": 68,
     "metadata": {},
     "output_type": "execute_result"
    }
   ],
   "source": [
    "test_data['Outcome'].isna().sum()"
   ]
  },
  {
   "cell_type": "code",
   "execution_count": 64,
   "metadata": {},
   "outputs": [
    {
     "data": {
      "text/plain": [
       "<AxesSubplot:xlabel='Outcome'>"
      ]
     },
     "execution_count": 64,
     "metadata": {},
     "output_type": "execute_result"
    },
    {
     "data": {
      "image/png": "[encoded data removed]",
      "text/plain": [
       "<Figure size 432x288 with 1 Axes>"
      ]
     },
     "metadata": {
      "needs_background": "light"
     },
     "output_type": "display_data"
    }
   ],
   "source": [
    "pd.crosstab(train_data.job_type,train_data.car_insurance).plot(kind='bar')"
   ]
  },
  {
   "cell_type": "code",
   "execution_count": 79,
   "metadata": {},
   "outputs": [
    {
     "data": {
      "text/plain": [
       "<AxesSubplot:xlabel='job_type'>"
      ]
     },
     "execution_count": 79,
     "metadata": {},
     "output_type": "execute_result"
    },
    {
     "data": {
      "image/png": "[encoded data removed]",
      "text/plain": [
       "<Figure size 432x288 with 1 Axes>"
      ]
     },
     "metadata": {
      "needs_background": "light"
     },
     "output_type": "display_data"
    }
   ],
   "source": [
    "pd.crosstab(train_data.job_type,train_data.education_level).plot(kind='bar')"
   ]
  },
  {
   "cell_type": "code",
   "execution_count": null,
   "metadata": {},
   "outputs": [],
   "source": [
    "# Data Pre-Process"
   ]
  },
  {
   "cell_type": "code",
   "execution_count": 75,
   "metadata": {},
   "outputs": [],
   "source": [
    "train_data.Outcome.fillna(\"other\", inplace=True)"
   ]
  },
  {
   "cell_type": "code",
   "execution_count": 77,
   "metadata": {},
   "outputs": [
    {
     "data": {
      "text/plain": [
       "age                      0\n",
       "job_type                11\n",
       "marital_status           0\n",
       "education_level        113\n",
       "default_or_not           0\n",
       "balance_amt              0\n",
       "household_insurance      0\n",
       "car_loan                 0\n",
       "communication          543\n",
       "last_contact_day         0\n",
       "last_contact_month       0\n",
       "no_of_contacts           0\n",
       "days_passed              0\n",
       "prev_attempts            0\n",
       "Outcome                  0\n",
       "call_start               0\n",
       "call_end                 0\n",
       "car_insurance            0\n",
       "dtype: int64"
      ]
     },
     "execution_count": 77,
     "metadata": {},
     "output_type": "execute_result"
    }
   ],
   "source": [
    "train_data.isna().sum()"
   ]
  },
  {
   "cell_type": "code",
   "execution_count": 80,
   "metadata": {},
   "outputs": [],
   "source": [
    "del train_data['communication']"
   ]
  },
  {
   "cell_type": "code",
   "execution_count": 81,
   "metadata": {},
   "outputs": [],
   "source": [
    "from sklearn.impute import SimpleImputer"
   ]
  },
  {
   "cell_type": "code",
   "execution_count": 82,
   "metadata": {},
   "outputs": [],
   "source": [
    "mode_imputer = SimpleImputer(missing_values=np.NaN, strategy='most_frequent')\n",
    "mode_imputer = mode_imputer.fit(train_data[['job_type']])\n",
    "train_data['job_type'] = mode_imputer.transform(train_data[['job_type']]).ravel()"
   ]
  },
  {
   "cell_type": "code",
   "execution_count": 83,
   "metadata": {},
   "outputs": [],
   "source": [
    "mode_imputer = SimpleImputer(missing_values=np.NaN, strategy='most_frequent')\n",
    "mode_imputer = mode_imputer.fit(train_data[['education_level']])\n",
    "train_data['education_level'] = mode_imputer.transform(train_data[['education_level']]).ravel()"
   ]
  },
  {
   "cell_type": "code",
   "execution_count": 84,
   "metadata": {},
   "outputs": [
    {
     "data": {
      "text/plain": [
       "age                    0\n",
       "job_type               0\n",
       "marital_status         0\n",
       "education_level        0\n",
       "default_or_not         0\n",
       "balance_amt            0\n",
       "household_insurance    0\n",
       "car_loan               0\n",
       "last_contact_day       0\n",
       "last_contact_month     0\n",
       "no_of_contacts         0\n",
       "days_passed            0\n",
       "prev_attempts          0\n",
       "Outcome                0\n",
       "call_start             0\n",
       "call_end               0\n",
       "car_insurance          0\n",
       "dtype: int64"
      ]
     },
     "execution_count": 84,
     "metadata": {},
     "output_type": "execute_result"
    }
   ],
   "source": [
    "train_data.isna().sum()"
   ]
  },
  {
   "cell_type": "code",
   "execution_count": 88,
   "metadata": {},
   "outputs": [],
   "source": [
    "del train_data['call_start']\n",
    "del train_data['call_end']"
   ]
  },
  {
   "cell_type": "code",
   "execution_count": 89,
   "metadata": {},
   "outputs": [
    {
     "name": "stdout",
     "output_type": "stream",
     "text": [
      "<class 'pandas.core.frame.DataFrame'>\n",
      "RangeIndex: 3102 entries, 0 to 3101\n",
      "Data columns (total 15 columns):\n",
      " #   Column               Non-Null Count  Dtype  \n",
      "---  ------               --------------  -----  \n",
      " 0   age                  3102 non-null   float64\n",
      " 1   job_type             3102 non-null   object \n",
      " 2   marital_status       3102 non-null   object \n",
      " 3   education_level      3102 non-null   object \n",
      " 4   default_or_not       3102 non-null   int64  \n",
      " 5   balance_amt          3102 non-null   float64\n",
      " 6   household_insurance  3102 non-null   int64  \n",
      " 7   car_loan             3102 non-null   int64  \n",
      " 8   last_contact_day     3102 non-null   int64  \n",
      " 9   last_contact_month   3102 non-null   object \n",
      " 10  no_of_contacts       3102 non-null   int64  \n",
      " 11  days_passed          3102 non-null   int64  \n",
      " 12  prev_attempts        3102 non-null   int64  \n",
      " 13  Outcome              3102 non-null   object \n",
      " 14  car_insurance        3102 non-null   int64  \n",
      "dtypes: float64(2), int64(8), object(5)\n",
      "memory usage: 363.6+ KB\n"
     ]
    }
   ],
   "source": [
    "train_data.info()"
   ]
  },
  {
   "cell_type": "code",
   "execution_count": 90,
   "metadata": {},
   "outputs": [],
   "source": [
    "train_data = pd.get_dummies(train_data, columns=['job_type'])\n",
    "train_data = pd.get_dummies(train_data, columns=['marital_status'])\n",
    "train_data = pd.get_dummies(train_data, columns=['education_level'])\n",
    "train_data = pd.get_dummies(train_data, columns=['last_contact_month'])\n",
    "train_data = pd.get_dummies(train_data, columns=['Outcome'])"
   ]
  },
  {
   "cell_type": "code",
   "execution_count": 91,
   "metadata": {},
   "outputs": [
    {
     "name": "stdout",
     "output_type": "stream",
     "text": [
      "<class 'pandas.core.frame.DataFrame'>\n",
      "RangeIndex: 3102 entries, 0 to 3101\n",
      "Data columns (total 42 columns):\n",
      " #   Column                     Non-Null Count  Dtype  \n",
      "---  ------                     --------------  -----  \n",
      " 0   age                        3102 non-null   float64\n",
      " 1   default_or_not             3102 non-null   int64  \n",
      " 2   balance_amt                3102 non-null   float64\n",
      " 3   household_insurance        3102 non-null   int64  \n",
      " 4   car_loan                   3102 non-null   int64  \n",
      " 5   last_contact_day           3102 non-null   int64  \n",
      " 6   no_of_contacts             3102 non-null   int64  \n",
      " 7   days_passed                3102 non-null   int64  \n",
      " 8   prev_attempts              3102 non-null   int64  \n",
      " 9   car_insurance              3102 non-null   int64  \n",
      " 10  job_type_admin.            3102 non-null   uint8  \n",
      " 11  job_type_blue-collar       3102 non-null   uint8  \n",
      " 12  job_type_entrepreneur      3102 non-null   uint8  \n",
      " 13  job_type_housemaid         3102 non-null   uint8  \n",
      " 14  job_type_management        3102 non-null   uint8  \n",
      " 15  job_type_retired           3102 non-null   uint8  \n",
      " 16  job_type_self-employed     3102 non-null   uint8  \n",
      " 17  job_type_services          3102 non-null   uint8  \n",
      " 18  job_type_student           3102 non-null   uint8  \n",
      " 19  job_type_technician        3102 non-null   uint8  \n",
      " 20  job_type_unemployed        3102 non-null   uint8  \n",
      " 21  marital_status_divorced    3102 non-null   uint8  \n",
      " 22  marital_status_married     3102 non-null   uint8  \n",
      " 23  marital_status_single      3102 non-null   uint8  \n",
      " 24  education_level_primary    3102 non-null   uint8  \n",
      " 25  education_level_secondary  3102 non-null   uint8  \n",
      " 26  education_level_tertiary   3102 non-null   uint8  \n",
      " 27  last_contact_month_apr     3102 non-null   uint8  \n",
      " 28  last_contact_month_aug     3102 non-null   uint8  \n",
      " 29  last_contact_month_dec     3102 non-null   uint8  \n",
      " 30  last_contact_month_feb     3102 non-null   uint8  \n",
      " 31  last_contact_month_jan     3102 non-null   uint8  \n",
      " 32  last_contact_month_jul     3102 non-null   uint8  \n",
      " 33  last_contact_month_jun     3102 non-null   uint8  \n",
      " 34  last_contact_month_mar     3102 non-null   uint8  \n",
      " 35  last_contact_month_may     3102 non-null   uint8  \n",
      " 36  last_contact_month_nov     3102 non-null   uint8  \n",
      " 37  last_contact_month_oct     3102 non-null   uint8  \n",
      " 38  last_contact_month_sep     3102 non-null   uint8  \n",
      " 39  Outcome_failure            3102 non-null   uint8  \n",
      " 40  Outcome_other              3102 non-null   uint8  \n",
      " 41  Outcome_success            3102 non-null   uint8  \n",
      "dtypes: float64(2), int64(8), uint8(32)\n",
      "memory usage: 339.4 KB\n"
     ]
    }
   ],
   "source": [
    "train_data.info()"
   ]
  },
  {
   "cell_type": "code",
   "execution_count": null,
   "metadata": {},
   "outputs": [],
   "source": [
    "# Building A Model"
   ]
  },
  {
   "cell_type": "code",
   "execution_count": 92,
   "metadata": {},
   "outputs": [],
   "source": [
    "X = train_data.drop('car_insurance', axis = 1)\n",
    "y = train_data.car_insurance"
   ]
  },
  {
   "cell_type": "code",
   "execution_count": 93,
   "metadata": {},
   "outputs": [],
   "source": [
    "from sklearn.model_selection import train_test_split \n",
    "\n",
    "X_train, X_test, y_train, y_test = train_test_split(X, y, test_size=0.3, random_state=42)"
   ]
  },
  {
   "cell_type": "code",
   "execution_count": 94,
   "metadata": {},
   "outputs": [],
   "source": [
    "from sklearn.tree import DecisionTreeClassifier"
   ]
  },
  {
   "cell_type": "code",
   "execution_count": 95,
   "metadata": {},
   "outputs": [],
   "source": [
    "dtree = DecisionTreeClassifier(random_state=1)"
   ]
  },
  {
   "cell_type": "code",
   "execution_count": 96,
   "metadata": {},
   "outputs": [
    {
     "data": {
      "text/plain": [
       "DecisionTreeClassifier(random_state=1)"
      ]
     },
     "execution_count": 96,
     "metadata": {},
     "output_type": "execute_result"
    }
   ],
   "source": [
    "dtree.fit(X_train, y_train)"
   ]
  },
  {
   "cell_type": "code",
   "execution_count": 97,
   "metadata": {},
   "outputs": [],
   "source": [
    "predictions_train = dtree.predict(X_train)\n",
    "predictions_test = dtree.predict(X_test)"
   ]
  },
  {
   "cell_type": "code",
   "execution_count": 99,
   "metadata": {},
   "outputs": [
    {
     "name": "stdout",
     "output_type": "stream",
     "text": [
      "Training 1.0\n",
      "Test 0.6723952738990333\n"
     ]
    }
   ],
   "source": [
    "from sklearn.metrics import accuracy_score\n",
    "print('Training', accuracy_score(y_train, predictions_train))\n",
    "print('Test', accuracy_score(y_test, predictions_test))"
   ]
  },
  {
   "cell_type": "code",
   "execution_count": 127,
   "metadata": {},
   "outputs": [
    {
     "data": {
      "text/plain": [
       "DecisionTreeClassifier(max_depth=5, random_state=1)"
      ]
     },
     "execution_count": 127,
     "metadata": {},
     "output_type": "execute_result"
    }
   ],
   "source": [
    "model_improved = DecisionTreeClassifier(random_state = 1, max_depth = 5)\n",
    "model_improved.fit(X_train, y_train)"
   ]
  },
  {
   "cell_type": "code",
   "execution_count": 102,
   "metadata": {},
   "outputs": [],
   "source": [
    "predictions_train = model_improved.predict(X_train)\n",
    "predictions_test = model_improved.predict(X_test)"
   ]
  },
  {
   "cell_type": "code",
   "execution_count": 103,
   "metadata": {},
   "outputs": [
    {
     "name": "stdout",
     "output_type": "stream",
     "text": [
      "train 0.6397973284200829\n",
      "test 0.6305048335123523\n"
     ]
    }
   ],
   "source": [
    "print('train' , accuracy_score(y_train, predictions_train))\n",
    "print('test', accuracy_score(y_test, predictions_test))"
   ]
  },
  {
   "cell_type": "code",
   "execution_count": null,
   "metadata": {},
   "outputs": [],
   "source": [
    "# Predict The Test Set Data"
   ]
  },
  {
   "cell_type": "code",
   "execution_count": 104,
   "metadata": {},
   "outputs": [
    {
     "data": {
      "text/plain": [
       "age                      0\n",
       "job_type                 5\n",
       "marital_status           0\n",
       "education_level         34\n",
       "default_or_not           0\n",
       "balance_amt              0\n",
       "household_insurance      0\n",
       "car_loan                 0\n",
       "communication          165\n",
       "last_contact_day         0\n",
       "last_contact_month       0\n",
       "no_of_contacts           0\n",
       "days_passed              0\n",
       "prev_attempts            0\n",
       "Outcome                695\n",
       "call_start               0\n",
       "call_end                 0\n",
       "dtype: int64"
      ]
     },
     "execution_count": 104,
     "metadata": {},
     "output_type": "execute_result"
    }
   ],
   "source": [
    "test_data.isna().sum()"
   ]
  },
  {
   "cell_type": "code",
   "execution_count": 107,
   "metadata": {},
   "outputs": [],
   "source": [
    "del test_data['call_start']\n",
    "del test_data['call_end']\n",
    "del test_data['communication']"
   ]
  },
  {
   "cell_type": "code",
   "execution_count": 109,
   "metadata": {},
   "outputs": [
    {
     "data": {
      "text/plain": [
       "age                      0\n",
       "job_type                 5\n",
       "marital_status           0\n",
       "education_level         34\n",
       "default_or_not           0\n",
       "balance_amt              0\n",
       "household_insurance      0\n",
       "car_loan                 0\n",
       "last_contact_day         0\n",
       "last_contact_month       0\n",
       "no_of_contacts           0\n",
       "days_passed              0\n",
       "prev_attempts            0\n",
       "Outcome                695\n",
       "dtype: int64"
      ]
     },
     "execution_count": 109,
     "metadata": {},
     "output_type": "execute_result"
    }
   ],
   "source": [
    "test_data.isna().sum()"
   ]
  },
  {
   "cell_type": "code",
   "execution_count": 111,
   "metadata": {},
   "outputs": [],
   "source": [
    "test_data.Outcome.fillna(\"other\", inplace=True)"
   ]
  },
  {
   "cell_type": "code",
   "execution_count": 112,
   "metadata": {},
   "outputs": [],
   "source": [
    "mode_imputer = SimpleImputer(missing_values=np.NaN, strategy='most_frequent')\n",
    "mode_imputer = mode_imputer.fit(test_data[['job_type']])\n",
    "test_data['job_type'] = mode_imputer.transform(test_data[['job_type']]).ravel()"
   ]
  },
  {
   "cell_type": "code",
   "execution_count": 113,
   "metadata": {},
   "outputs": [],
   "source": [
    "mode_imputer = SimpleImputer(missing_values=np.NaN, strategy='most_frequent')\n",
    "mode_imputer = mode_imputer.fit(test_data[['education_level']])\n",
    "test_data['education_level'] = mode_imputer.transform(test_data[['education_level']]).ravel()"
   ]
  },
  {
   "cell_type": "code",
   "execution_count": 114,
   "metadata": {},
   "outputs": [
    {
     "data": {
      "text/plain": [
       "age                    0\n",
       "job_type               0\n",
       "marital_status         0\n",
       "education_level        0\n",
       "default_or_not         0\n",
       "balance_amt            0\n",
       "household_insurance    0\n",
       "car_loan               0\n",
       "last_contact_day       0\n",
       "last_contact_month     0\n",
       "no_of_contacts         0\n",
       "days_passed            0\n",
       "prev_attempts          0\n",
       "Outcome                0\n",
       "dtype: int64"
      ]
     },
     "execution_count": 114,
     "metadata": {},
     "output_type": "execute_result"
    }
   ],
   "source": [
    "test_data.isna().sum()"
   ]
  },
  {
   "cell_type": "code",
   "execution_count": 115,
   "metadata": {},
   "outputs": [],
   "source": [
    "test_data = pd.get_dummies(test_data, columns=['job_type'])\n",
    "test_data = pd.get_dummies(test_data, columns=['marital_status'])\n",
    "test_data = pd.get_dummies(test_data, columns=['education_level'])\n",
    "test_data = pd.get_dummies(test_data, columns=['last_contact_month'])\n",
    "test_data = pd.get_dummies(test_data, columns=['Outcome'])"
   ]
  },
  {
   "cell_type": "code",
   "execution_count": 128,
   "metadata": {},
   "outputs": [],
   "source": [
    "Insurance_Predict = model_improved.predict(test_data)"
   ]
  },
  {
   "cell_type": "code",
   "execution_count": 129,
   "metadata": {},
   "outputs": [
    {
     "data": {
      "text/plain": [
       "array([1, 1, 0, 0, 1, 0, 1, 1, 1, 1, 1, 1, 1, 1, 1, 1, 1, 1, 1, 1, 1, 1,\n",
       "       0, 1, 1, 1, 1, 1, 0, 1, 1, 1, 1, 0, 1, 1, 1, 1, 1, 1, 0, 1, 1, 1,\n",
       "       1, 1, 0, 0, 1, 1, 0, 0, 1, 1, 1, 1, 1, 1, 1, 1, 1, 1, 1, 0, 1, 1,\n",
       "       1, 1, 1, 0, 1, 1, 1, 1, 1, 1, 1, 1, 1, 1, 1, 0, 1, 0, 1, 0, 1, 1,\n",
       "       1, 1, 0, 0, 1, 1, 1, 1, 1, 0, 0, 1, 1, 1, 1, 1, 0, 1, 1, 1, 1, 1,\n",
       "       1, 1, 1, 1, 1, 1, 1, 0, 1, 0, 1, 1, 1, 1, 1, 0, 1, 1, 1, 1, 1, 1,\n",
       "       1, 0, 0, 0, 1, 0, 1, 1, 1, 0, 0, 1, 1, 0, 1, 1, 0, 1, 1, 0, 0, 1,\n",
       "       1, 1, 1, 0, 1, 0, 0, 0, 1, 1, 1, 1, 0, 0, 1, 1, 0, 1, 0, 1, 1, 1,\n",
       "       1, 1, 0, 1, 1, 1, 1, 0, 0, 1, 1, 1, 1, 1, 1, 1, 1, 0, 1, 1, 1, 0,\n",
       "       1, 1, 0, 1, 1, 1, 1, 1, 0, 1, 1, 1, 1, 1, 1, 1, 0, 1, 1, 1, 1, 1,\n",
       "       1, 1, 1, 1, 1, 1, 0, 0, 1, 1, 0, 0, 0, 1, 0, 1, 0, 1, 1, 1, 1, 0,\n",
       "       1, 1, 0, 0, 0, 0, 1, 1, 1, 1, 1, 1, 1, 1, 0, 0, 0, 0, 1, 1, 1, 1,\n",
       "       1, 1, 0, 1, 1, 1, 1, 1, 1, 1, 1, 1, 1, 0, 0, 0, 0, 1, 0, 1, 1, 0,\n",
       "       0, 0, 1, 1, 1, 1, 0, 1, 1, 1, 0, 1, 1, 0, 0, 1, 0, 1, 1, 0, 0, 1,\n",
       "       1, 1, 1, 1, 1, 1, 0, 1, 1, 1, 0, 1, 1, 1, 0, 1, 1, 1, 1, 1, 0, 0,\n",
       "       0, 1, 1, 1, 1, 1, 1, 1, 1, 1, 1, 0, 1, 0, 1, 0, 0, 0, 0, 0, 1, 1,\n",
       "       1, 1, 1, 0, 1, 1, 1, 1, 1, 1, 0, 1, 1, 1, 1, 1, 1, 0, 1, 1, 1, 1,\n",
       "       1, 1, 1, 1, 1, 1, 0, 1, 1, 1, 0, 1, 0, 1, 1, 1, 1, 1, 1, 1, 1, 1,\n",
       "       1, 1, 0, 0, 0, 1, 0, 1, 1, 1, 0, 1, 0, 1, 1, 0, 1, 1, 0, 1, 0, 1,\n",
       "       1, 1, 1, 1, 0, 1, 0, 0, 1, 1, 1, 1, 1, 1, 1, 1, 1, 1, 1, 1, 0, 0,\n",
       "       1, 0, 0, 1, 1, 1, 1, 1, 1, 0, 1, 0, 0, 0, 0, 1, 1, 1, 1, 1, 1, 1,\n",
       "       1, 1, 0, 1, 1, 1, 0, 1, 1, 0, 1, 0, 1, 1, 1, 1, 0, 1, 0, 1, 1, 0,\n",
       "       1, 0, 1, 0, 1, 0, 1, 1, 1, 1, 1, 1, 0, 1, 0, 1, 1, 1, 1, 1, 1, 1,\n",
       "       1, 1, 0, 1, 1, 1, 0, 0, 0, 0, 1, 1, 0, 0, 1, 1, 0, 1, 1, 0, 0, 1,\n",
       "       0, 1, 1, 1, 1, 0, 1, 0, 1, 1, 0, 1, 1, 1, 1, 1, 1, 1, 1, 0, 1, 1,\n",
       "       1, 1, 0, 1, 0, 0, 1, 1, 1, 1, 1, 0, 0, 1, 1, 0, 0, 1, 0, 0, 1, 0,\n",
       "       0, 1, 1, 1, 1, 1, 0, 1, 1, 1, 1, 1, 1, 1, 1, 1, 0, 1, 0, 1, 1, 1,\n",
       "       1, 0, 0, 1, 0, 1, 1, 0, 0, 0, 1, 0, 1, 1, 1, 0, 1, 1, 1, 1, 1, 0,\n",
       "       1, 0, 1, 0, 0, 1, 1, 1, 1, 0, 0, 1, 0, 0, 1, 1, 1, 1, 1, 1, 1, 1,\n",
       "       0, 1, 1, 1, 1, 1, 0, 0, 1, 1, 1, 1, 1, 1, 1, 0, 0, 1, 1, 0, 1, 1,\n",
       "       0, 1, 1, 1, 1, 1, 1, 0, 1, 1, 1, 1, 0, 0, 1, 1, 1, 0, 1, 1, 0, 1,\n",
       "       0, 0, 0, 1, 1, 1, 1, 1, 1, 1, 1, 0, 1, 0, 1, 1, 1, 1, 1, 0, 1, 1,\n",
       "       1, 1, 1, 0, 0, 1, 0, 1, 1, 0, 0, 1, 1, 1, 1, 1, 1, 0, 1, 1, 1, 0,\n",
       "       1, 0, 1, 1, 1, 1, 1, 0, 1, 0, 0, 1, 0, 1, 1, 0, 0, 0, 1, 1, 1, 1,\n",
       "       1, 1, 0, 0, 1, 1, 1, 0, 1, 1, 0, 1, 0, 0, 1, 1, 1, 0, 1, 0, 1, 1,\n",
       "       1, 0, 1, 0, 1, 1, 0, 1, 1, 0, 1, 0, 1, 0, 0, 1, 0, 1, 0, 1, 1, 1,\n",
       "       1, 1, 0, 0, 0, 0, 0, 1, 1, 1, 1, 1, 1, 1, 1, 1, 1, 0, 1, 0, 1, 1,\n",
       "       1, 1, 1, 1, 0, 1, 0, 1, 1, 0, 1, 1, 1, 1, 1, 0, 1, 0, 0, 1, 1, 1,\n",
       "       1, 0, 1, 1, 1, 1, 0, 1, 0, 1, 1, 1, 0, 0, 0, 1, 0, 1, 1, 1, 1, 0,\n",
       "       1, 1, 1, 1, 0, 1, 0, 1, 1, 0, 1, 1, 1, 1, 0, 1, 1, 1, 1, 1, 1, 1,\n",
       "       1, 1, 1, 1, 1, 1, 0, 1, 1, 1, 1, 1, 1, 0, 1, 1, 1, 1, 1, 0, 0, 1,\n",
       "       0, 1, 0, 1, 1, 0, 1, 0, 0, 0, 1, 1, 1, 1, 1, 1, 1, 1, 1, 1, 1, 0,\n",
       "       0, 1, 1, 0, 0, 1, 1, 1, 0, 1, 1], dtype=int64)"
      ]
     },
     "execution_count": 129,
     "metadata": {},
     "output_type": "execute_result"
    }
   ],
   "source": [
    "Insurance_Predict"
   ]
  },
  {
   "cell_type": "code",
   "execution_count": 130,
   "metadata": {},
   "outputs": [],
   "source": [
    "res = pd.DataFrame(Insurance_Predict) \n",
    "res.columns = [\"prediction\"]\n",
    "res.to_csv(\"prediction_results2.csv\", index = False)"
   ]
  },
  {
   "cell_type": "code",
   "execution_count": 131,
   "metadata": {},
   "outputs": [],
   "source": [
    "Third_Predict = dtree.predict(test_data)"
   ]
  },
  {
   "cell_type": "code",
   "execution_count": 132,
   "metadata": {},
   "outputs": [],
   "source": [
    "res = pd.DataFrame(Third_Predict) \n",
    "res.columns = [\"prediction\"]\n",
    "res.to_csv(\"prediction_results3.csv\", index = False)"
   ]
  },
  {
   "cell_type": "code",
   "execution_count": null,
   "metadata": {},
   "outputs": [],
   "source": []
  }
 ],
 "metadata": {
  "kernelspec": {
   "display_name": "Python 3",
   "language": "python",
   "name": "python3"
  },
  "language_info": {
   "codemirror_mode": {
    "name": "ipython",
    "version": 3
   },
   "file_extension": ".py",
   "mimetype": "text/x-python",
   "name": "python",
   "nbconvert_exporter": "python",
   "pygments_lexer": "ipython3",
   "version": "3.8.5"
  }
 },
 "nbformat": 4,
 "nbformat_minor": 4
}
